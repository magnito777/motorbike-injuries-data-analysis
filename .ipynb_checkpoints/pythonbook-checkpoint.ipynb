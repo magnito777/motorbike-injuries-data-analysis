{
 "cells": [
  {
   "cell_type": "code",
   "execution_count": 33,
   "metadata": {},
   "outputs": [
    {
     "name": "stdout",
     "output_type": "stream",
     "text": [
      "         roles  frequency  percentage\n",
      "0   Passenger:         47        37.6\n",
      "1  Pedestrian:         21        16.8\n",
      "2     operator         57        45.6\n"
     ]
    },
    {
     "data": {
      "image/png": "[encoded data removed]",
      "text/plain": [
       "<Figure size 1000x600 with 1 Axes>"
      ]
     },
     "metadata": {},
     "output_type": "display_data"
    },
    {
     "name": "stdout",
     "output_type": "stream",
     "text": [
      "Chi-square test p-value: 1.0\n"
     ]
    }
   ],
   "source": [
    "\n",
    "\n",
    "\n",
    "# Import libraries\n",
    "import pandas as pd\n",
    "from scipy.stats import chi2_contingency\n",
    "import matplotlib.pyplot as plt\n",
    "import seaborn as sns\n",
    "\n",
    "# Read and process the data\n",
    "data = pd.read_csv(\"motorbike-injuries.csv\")\n",
    "data_grouped = data.groupby('roles').size().reset_index(name='frequency')\n",
    "data_grouped['percentage'] = (data_grouped['frequency'] / data_grouped['frequency'].sum()) * 100\n",
    "\n",
    "# Display data in a table\n",
    "print(data_grouped)\n",
    "\n",
    "# Plot the data\n",
    "plt.figure(figsize=(10, 6))\n",
    "sns.barplot(x='roles', y='percentage', data=data_grouped)\n",
    "plt.title('Distribution of Roles in Motorbike Injuries')\n",
    "plt.xlabel('Roles')\n",
    "plt.ylabel('Percentage')\n",
    "plt.show()\n",
    "\n",
    "# Perform Chi-squared test\n",
    "chi2, p, dof, ex = chi2_contingency([data_grouped['frequency']])\n",
    "print(f\"Chi-square test p-value: {p}\")\n"
   ]
  },
  {
   "cell_type": "code",
   "execution_count": 34,
   "metadata": {},
   "outputs": [
    {
     "name": "stdout",
     "output_type": "stream",
     "text": [
      "     age  frequency  percentage\n",
      "0    7.0          1         0.8\n",
      "1   17.0          5         4.0\n",
      "2   18.0          1         0.8\n",
      "3   19.0          5         4.0\n",
      "4   21.0          6         4.8\n",
      "5   22.0          8         6.4\n",
      "6   23.0          2         1.6\n",
      "7   24.0          6         4.8\n",
      "8   25.0          7         5.6\n",
      "9   26.0          2         1.6\n",
      "10  27.0          1         0.8\n",
      "11  28.0          3         2.4\n",
      "12  29.0          4         3.2\n",
      "13  30.0          2         1.6\n",
      "14  31.0          4         3.2\n",
      "15  32.0          8         6.4\n",
      "16  33.0          4         3.2\n",
      "17  34.0          6         4.8\n",
      "18  35.0          3         2.4\n",
      "19  37.0          5         4.0\n",
      "20  40.0          4         3.2\n",
      "21  41.0          2         1.6\n",
      "22  42.0          4         3.2\n",
      "23  43.0          4         3.2\n",
      "24  44.0          3         2.4\n",
      "25  45.0          1         0.8\n",
      "26  46.0          1         0.8\n",
      "27  48.0          1         0.8\n",
      "28  49.0          1         0.8\n",
      "29  50.0          2         1.6\n",
      "30  51.0          1         0.8\n",
      "31  52.0          3         2.4\n",
      "32  53.0          1         0.8\n",
      "33  54.0          1         0.8\n",
      "34  55.0          1         0.8\n",
      "35  56.0          1         0.8\n",
      "36  58.0          1         0.8\n",
      "37  60.0          1         0.8\n",
      "38  61.0          4         3.2\n",
      "39  62.0          1         0.8\n",
      "40  65.0          1         0.8\n",
      "41  67.0          2         1.6\n",
      "42  84.0          1         0.8\n",
      "Chi-square test statistic: 0.0\n",
      "Chi-square test p-value: 1.0\n"
     ]
    }
   ],
   "source": [
    "# Group by age\n",
    "data_grouped_by_age = data.groupby('age').size().reset_index(name='frequency')\n",
    "data_grouped_by_age['percentage'] = (data_grouped_by_age['frequency'] / data_grouped_by_age['frequency'].sum()) * 100\n",
    "\n",
    "# Display data grouped by age\n",
    "print(data_grouped_by_age)\n",
    "\n",
    "# Perform Chi-squared test\n",
    "chi2, p, dof, ex = chi2_contingency([data_grouped_by_age['frequency']])\n",
    "print(f\"Chi-square test statistic: {chi2}\")\n",
    "print(f\"Chi-square test p-value: {p}\")"
   ]
  },
  {
   "cell_type": "markdown",
   "metadata": {},
   "source": []
  },
  {
   "cell_type": "markdown",
   "metadata": {},
   "source": [
    "| age | frequency | percentage |\n",
    "|-----|-----------|------------|\n",
    "| 7.0 | 1         | 0.8        |\n",
    "| 17.0| 5         | 4.0        |\n",
    "| 18.0| 1         | 0.8        |\n",
    "| 19.0| 5         | 4.0        |\n",
    "| 21.0| 6         | 4.8        |\n",
    "| 22.0| 8         | 6.4        |\n",
    "| 23.0| 2         | 1.6        |\n",
    "| 24.0| 6         | 4.8        |\n",
    "| 25.0| 7         | 5.6        |\n",
    "| 26.0| 2         | 1.6        |\n",
    "| 27.0| 1         | 0.8        |\n",
    "| 28.0| 3         | 2.4        |\n",
    "| 29.0| 4         | 3.2        |\n",
    "| 30.0| 2         | 1.6        |\n",
    "| 31.0| 4         | 3.2        |\n",
    "| 32.0| 8         | 6.4        |\n",
    "| 33.0| 4         | 3.2        |\n",
    "| 34.0| 6         | 4.8        |\n",
    "| 35.0| 3         | 2.4        |\n",
    "| 37.0| 5         | 4.0        |\n",
    "| 40.0| 4         | 3.2        |\n",
    "| 41.0| 2         | 1.6        |\n",
    "| 42.0| 4         | 3.2        |\n",
    "| 43.0| 4         | 3.2        |\n",
    "| 44.0| 3         | 2.4        |\n",
    "| 45.0| 1         | 0.8        |\n",
    "| 46.0| 1         | 0.8        |\n",
    "| 48.0| 1         | 0.8        |\n",
    "| 49.0| 1         | 0.8        |\n",
    "| 50.0| 2         | 1.6        |\n",
    "| 51.0| 1         | 0.8        |\n",
    "| 52.0| 3         | 2.4        |\n",
    "| 53.0| 1         | 0.8        |\n",
    "| 54.0| 1         | 0.8        |\n",
    "| 55.0| 1         | 0.8        |\n",
    "| 56.0| 1         | 0.8        |\n",
    "| 58.0| 1         | 0.8        |\n",
    "| 60.0| 1         | 0.8        |\n",
    "| 61.0| 4         | 3.2        |\n",
    "| 62.0| 1         | 0.8        |\n",
    "| 65.0| 1         | 0.8        |\n",
    "| 67.0| 2         | 1.6        |\n",
    "| 84.0| 1         | 0.8        |\n",
    "\n",
    "Chi-square test statistic: 0.0  \n",
    "Chi-square test p-value: 1.0"
   ]
  },
  {
   "cell_type": "code",
   "execution_count": 35,
   "metadata": {},
   "outputs": [
    {
     "name": "stdout",
     "output_type": "stream",
     "text": [
      "     age_group  frequency  percentage\n",
      "0    ≤20 years         12         9.6\n",
      "1  21-30 years         39        31.2\n",
      "2  31-40 years         32        25.6\n",
      "3  41-50 years         21        16.8\n",
      "4    >50 years         21        16.8\n"
     ]
    },
    {
     "name": "stderr",
     "output_type": "stream",
     "text": [
      "C:\\Users\\user\\AppData\\Local\\Temp\\ipykernel_10116\\1156680809.py:9: FutureWarning: The default of observed=False is deprecated and will be changed to True in a future version of pandas. Pass observed=False to retain current behavior or observed=True to adopt the future default and silence this warning.\n",
      "  data_grouped_by_age_group = data.groupby('age_group').size().reset_index(name='frequency')\n"
     ]
    }
   ],
   "source": [
    "# Define age bins and labels\n",
    "bins = [0, 20, 30, 40, 50, float('inf')]\n",
    "labels = ['≤20 years', '21-30 years', '31-40 years', '41-50 years', '>50 years']\n",
    "\n",
    "# Create a new column for age groups\n",
    "data['age_group'] = pd.cut(data['age'], bins=bins, labels=labels, right=False)\n",
    "\n",
    "# Group by age groups\n",
    "data_grouped_by_age_group = data.groupby('age_group').size().reset_index(name='frequency')\n",
    "data_grouped_by_age_group['percentage'] = (data_grouped_by_age_group['frequency'] / data_grouped_by_age_group['frequency'].sum()) * 100\n",
    "\n",
    "# Display data grouped by age groups\n",
    "print(data_grouped_by_age_group)"
   ]
  },
  {
   "cell_type": "code",
   "execution_count": 36,
   "metadata": {},
   "outputs": [
    {
     "name": "stdout",
     "output_type": "stream",
     "text": [
      "     age        roles  frequency  percentage\n",
      "0    7.0  Pedestrian:          1         0.8\n",
      "1   17.0   Passenger:          4         3.2\n",
      "2   17.0     operator          1         0.8\n",
      "3   18.0   Passenger:          1         0.8\n",
      "4   19.0   Passenger:          2         1.6\n",
      "..   ...          ...        ...         ...\n",
      "68  61.0     operator          1         0.8\n",
      "69  62.0   Passenger:          1         0.8\n",
      "70  65.0     operator          1         0.8\n",
      "71  67.0  Pedestrian:          2         1.6\n",
      "72  84.0  Pedestrian:          1         0.8\n",
      "\n",
      "[73 rows x 4 columns]\n"
     ]
    }
   ],
   "source": [
    "\n",
    "\n",
    "# Group by age and roles\n",
    "data_grouped_by_age_roles = data.groupby(['age', 'roles']).size().reset_index(name='frequency')\n",
    "data_grouped_by_age_roles['percentage'] = (data_grouped_by_age_roles['frequency'] / data_grouped_by_age_roles['frequency'].sum()) * 100\n",
    "\n",
    "# Display data grouped by age and roles\n",
    "print(data_grouped_by_age_roles)\n"
   ]
  },
  {
   "cell_type": "markdown",
   "metadata": {},
   "source": [
    "| Age Group   | Roles       | Count | Median Age | Frequency | Percentage |\n",
    "|-------------|-------------|-------|------------|-----------|------------|\n",
    "| ≤20 years   | Passenger:  | 7     | 17.5       | 12        | 9.6        |\n",
    "| ≤20 years   | Pedestrian: | 2     | 17.5       | 12        | 9.6        |\n",
    "| ≤20 years   | operator    | 3     | 17.5       | 12        | 9.6        |\n",
    "| 21-30 years | Passenger:  | 14    | 24.0       | 39        | 31.2       |\n",
    "| 21-30 years | Pedestrian: | 4     | 24.0       | 39        | 31.2       |\n",
    "| 21-30 years | operator    | 21    | 24.0       | 39        | 31.2       |\n",
    "| 31-40 years | Passenger:  | 10    | 33.0       | 32        | 25.6       |\n",
    "| 31-40 years | Pedestrian: | 3     | 33.0       | 32        | 25.6       |\n",
    "| 31-40 years | operator    | 19    | 33.0       | 32        | 25.6       |\n",
    "| 41-50 years | Passenger:  | 11    | 43.0       | 21        | 16.8       |\n",
    "| 41-50 years | Pedestrian: | 3     | 43.0       | 21        | 16.8       |\n",
    "| 41-50 years | operator    | 7     | 43.0       | 21        | 16.8       |\n",
    "| >50 years   | Passenger:  | 5     | 58.0       | 21        | 16.8       |\n",
    "| >50 years   | Pedestrian: | 9     | 58.0       | 21        | 16.8       |\n",
    "| >50 years   | operator    | 7     | 58.0       | 21        | 16.8       |"
   ]
  },
  {
   "cell_type": "code",
   "execution_count": 37,
   "metadata": {},
   "outputs": [
    {
     "name": "stderr",
     "output_type": "stream",
     "text": [
      "C:\\Users\\user\\AppData\\Local\\Temp\\ipykernel_10116\\369167753.py:2: FutureWarning: The default of observed=False is deprecated and will be changed to True in a future version of pandas. Pass observed=False to retain current behavior or observed=True to adopt the future default and silence this warning.\n",
      "  grouped_by_age_roles = data.groupby(['age_group', 'roles']).size().reset_index(name='count')\n"
     ]
    },
    {
     "ename": "NameError",
     "evalue": "name 'median_age_by_group' is not defined",
     "output_type": "error",
     "traceback": [
      "\u001b[1;31m---------------------------------------------------------------------------\u001b[0m",
      "\u001b[1;31mNameError\u001b[0m                                 Traceback (most recent call last)",
      "Cell \u001b[1;32mIn[37], line 5\u001b[0m\n\u001b[0;32m      2\u001b[0m grouped_by_age_roles \u001b[38;5;241m=\u001b[39m data\u001b[38;5;241m.\u001b[39mgroupby([\u001b[38;5;124m'\u001b[39m\u001b[38;5;124mage_group\u001b[39m\u001b[38;5;124m'\u001b[39m, \u001b[38;5;124m'\u001b[39m\u001b[38;5;124mroles\u001b[39m\u001b[38;5;124m'\u001b[39m])\u001b[38;5;241m.\u001b[39msize()\u001b[38;5;241m.\u001b[39mreset_index(name\u001b[38;5;241m=\u001b[39m\u001b[38;5;124m'\u001b[39m\u001b[38;5;124mcount\u001b[39m\u001b[38;5;124m'\u001b[39m)\n\u001b[0;32m      4\u001b[0m \u001b[38;5;66;03m# Merge with median_age_by_group to add median age, frequency, and percentage columns\u001b[39;00m\n\u001b[1;32m----> 5\u001b[0m grouped_by_age_roles \u001b[38;5;241m=\u001b[39m grouped_by_age_roles\u001b[38;5;241m.\u001b[39mmerge(\u001b[43mmedian_age_by_group\u001b[49m[[\u001b[38;5;124m'\u001b[39m\u001b[38;5;124mage_group\u001b[39m\u001b[38;5;124m'\u001b[39m, \u001b[38;5;124m'\u001b[39m\u001b[38;5;124mmedian_age\u001b[39m\u001b[38;5;124m'\u001b[39m, \u001b[38;5;124m'\u001b[39m\u001b[38;5;124mfrequency\u001b[39m\u001b[38;5;124m'\u001b[39m, \u001b[38;5;124m'\u001b[39m\u001b[38;5;124mpercentage\u001b[39m\u001b[38;5;124m'\u001b[39m]], on\u001b[38;5;241m=\u001b[39m\u001b[38;5;124m'\u001b[39m\u001b[38;5;124mage_group\u001b[39m\u001b[38;5;124m'\u001b[39m)\n\u001b[0;32m      7\u001b[0m \u001b[38;5;66;03m# Display the updated DataFrame\u001b[39;00m\n\u001b[0;32m      8\u001b[0m \u001b[38;5;28mprint\u001b[39m(grouped_by_age_roles)\n",
      "\u001b[1;31mNameError\u001b[0m: name 'median_age_by_group' is not defined"
     ]
    }
   ],
   "source": [
    "# Group by age group and roles\n",
    "grouped_by_age_roles = data.groupby(['age_group', 'roles']).size().reset_index(name='count')\n",
    "\n",
    "# Merge with median_age_by_group to add median age, frequency, and percentage columns\n",
    "grouped_by_age_roles = grouped_by_age_roles.merge(median_age_by_group[['age_group', 'median_age', 'frequency', 'percentage']], on='age_group')\n",
    "\n",
    "# Display the updated DataFrame\n",
    "print(grouped_by_age_roles)\n"
   ]
  },
  {
   "cell_type": "markdown",
   "metadata": {},
   "source": [
    "| Age Group   | Roles       | Count | Median Age | Frequency | Percentage |\n",
    "|-------------|-------------|-------|------------|-----------|------------|\n",
    "| ≤20 years   | Passenger:  | 7     | 17.5       | 12        | 9.6        |\n",
    "| ≤20 years   | Pedestrian: | 2     | 17.5       | 12        | 9.6        |\n",
    "| ≤20 years   | operator    | 3     | 17.5       | 12        | 9.6        |\n",
    "| 21-30 years | Passenger:  | 14    | 24.0       | 39        | 31.2       |\n",
    "| 21-30 years | Pedestrian: | 4     | 24.0       | 39        | 31.2       |\n",
    "| 21-30 years | operator    | 21    | 24.0       | 39        | 31.2       |\n",
    "| 31-40 years | Passenger:  | 10    | 33.0       | 32        | 25.6       |\n",
    "| 31-40 years | Pedestrian: | 3     | 33.0       | 32        | 25.6       |\n",
    "| 31-40 years | operator    | 19    | 33.0       | 32        | 25.6       |\n",
    "| 41-50 years | Passenger:  | 11    | 43.0       | 21        | 16.8       |\n",
    "| 41-50 years | Pedestrian: | 3     | 43.0       | 21        | 16.8       |\n",
    "| 41-50 years | operator    | 7     | 43.0       | 21        | 16.8       |\n",
    "| >50 years   | Passenger:  | 5     | 58.0       | 21        | 16.8       |\n",
    "| >50 years   | Pedestrian: | 9     | 58.0       | 21        | 16.8       |\n",
    "| >50 years   | operator    | 7     | 58.0       | 21        | 16.8       |\n"
   ]
  },
  {
   "cell_type": "code",
   "execution_count": null,
   "metadata": {},
   "outputs": [
    {
     "name": "stdout",
     "output_type": "stream",
     "text": [
      "   gender  count  percentage\n",
      "0    male     94        75.2\n",
      "1  Female     31        24.8\n"
     ]
    }
   ],
   "source": [
    "# Count the number of females and males\n",
    "gender_counts = data['gender'].value_counts().reset_index()\n",
    "gender_counts.columns = ['gender', 'count']\n",
    "\n",
    "# Calculate the percentage\n",
    "gender_counts['percentage'] = (gender_counts['count'] / gender_counts['count'].sum()) * 100\n",
    "\n",
    "print(gender_counts)"
   ]
  },
  {
   "cell_type": "markdown",
   "metadata": {},
   "source": [
    "\n",
    "| gender | count | percentage |\n",
    "|--------|-------|------------|\n",
    "| male   | 94    | 75.2       |\n",
    "| Female | 31    | 24.8       |\n"
   ]
  },
  {
   "cell_type": "code",
   "execution_count": null,
   "metadata": {},
   "outputs": [
    {
     "name": "stdout",
     "output_type": "stream",
     "text": [
      "   gender        roles  frequency  percentage\n",
      "0  Female   Passenger:         22        17.6\n",
      "1  Female  Pedestrian:          9         7.2\n",
      "2    male   Passenger:         25        20.0\n",
      "3    male  Pedestrian:         12         9.6\n",
      "4    male     operator         57        45.6\n",
      "Chi-square test statistic: 0.0\n",
      "Chi-square test p-value: 1.0\n"
     ]
    }
   ],
   "source": [
    "import pandas as pd\n",
    "from scipy.stats import chi2_contingency\n",
    "\n",
    "# Group data by gender and roles\n",
    "data_grouped_by_gender_roles = data.groupby(['gender', 'roles']).size().reset_index(name='frequency')\n",
    "data_grouped_by_gender_roles['percentage'] = (data_grouped_by_gender_roles['frequency'] / data_grouped_by_gender_roles['frequency'].sum()) * 100\n",
    "\n",
    "# Display data grouped by gender and roles\n",
    "print(data_grouped_by_gender_roles)\n",
    "\n",
    "# Perform Chi-squared test\n",
    "chi2, p, dof, ex = chi2_contingency([data_grouped_by_gender_roles['frequency']])\n",
    "print(f\"Chi-square test statistic: {chi2}\")\n",
    "print(f\"Chi-square test p-value: {p}\")"
   ]
  },
  {
   "cell_type": "markdown",
   "metadata": {},
   "source": [
    "| gender | roles       | frequency | percentage |\n",
    "|--------|-------------|-----------|------------|\n",
    "| Female | Passenger:  | 22        | 17.6       |\n",
    "| Female | Pedestrian: | 9         | 7.2        |\n",
    "| male   | Passenger:  | 25        | 20.0       |\n",
    "| male   | Pedestrian: | 12        | 9.6        |\n",
    "| male   | operator    | 57        | 45.6       |\n",
    "\n",
    "Chi-square test statistic: 0.0  \n",
    "Chi-square test p-value: 1.0"
   ]
  },
  {
   "cell_type": "code",
   "execution_count": null,
   "metadata": {},
   "outputs": [
    {
     "name": "stdout",
     "output_type": "stream",
     "text": [
      "                  occupation  count  percentage\n",
      "0                  Business      25   20.833333\n",
      "1        Motorbike operator      12   10.000000\n",
      "2                    Farmer       6    5.000000\n",
      "3                   Student       6    5.000000\n",
      "4                 Carpenter       4    3.333333\n",
      "5              Motorcyclist       3    2.500000\n",
      "6                   Teacher       3    2.500000\n",
      "7               Electrician       2    1.666667\n",
      "8                   Builder       2    1.666667\n",
      "9                    Builder      2    1.666667\n",
      "10                    Farmer      2    1.666667\n",
      "11                House wife      2    1.666667\n",
      "12              Piece works       2    1.666667\n",
      "13           Small business       2    1.666667\n",
      "14                     Chef       2    1.666667\n",
      "15                      Gurd      2    1.666667\n",
      "16              Motorcyclist      2    1.666667\n",
      "17        Motorbike operator      2    1.666667\n",
      "18                Schooling       2    1.666667\n",
      "19               Motor rider      1    0.833333\n",
      "20               School drop      1    0.833333\n",
      "21            Small-bussness      1    0.833333\n",
      "22           Business woman       1    0.833333\n",
      "23               Motorcylist      1    0.833333\n",
      "24            Security guard      1    0.833333\n",
      "25                Councilor       1    0.833333\n",
      "26                 Accoutant      1    0.833333\n",
      "27  Business driver coaster       1    0.833333\n",
      "28                Accountant      1    0.833333\n",
      "29               Electrician      1    0.833333\n",
      "30                Contractor      1    0.833333\n",
      "31               Brick layer      1    0.833333\n",
      "32              Piece worker      1    0.833333\n",
      "33          Motor bike rider      1    0.833333\n",
      "34                Kumbendera      1    0.833333\n",
      "35             Business lady      1    0.833333\n",
      "36                 Mechanic       1    0.833333\n",
      "37                   Driver       1    0.833333\n",
      "38                 Housewife      1    0.833333\n",
      "39             Lands officer      1    0.833333\n",
      "40                   Plumber      1    0.833333\n",
      "41                     None       1    0.833333\n",
      "42         Forestry officer       1    0.833333\n",
      "43              Pork seller       1    0.833333\n",
      "44                Fisheries       1    0.833333\n",
      "45           Motorbike rider      1    0.833333\n",
      "46              Business man      1    0.833333\n",
      "47          Motorcycle rider      1    0.833333\n",
      "48                    Driver      1    0.833333\n",
      "49             Non employee       1    0.833333\n",
      "50                     Chelf      1    0.833333\n",
      "51                  Tailoror      1    0.833333\n",
      "52         Office assistant       1    0.833333\n",
      "53                  Watchman      1    0.833333\n",
      "54              Automechanic      1    0.833333\n",
      "55                   Painter      1    0.833333\n"
     ]
    }
   ],
   "source": [
    "# Count the number of occurrences for each occupation\n",
    "occupation_counts = data['occupation'].value_counts().reset_index()\n",
    "occupation_counts.columns = ['occupation', 'count']\n",
    "\n",
    "# Calculate the percentage\n",
    "occupation_counts['percentage'] = (occupation_counts['count'] / occupation_counts['count'].sum()) * 100\n",
    "\n",
    "print(occupation_counts)"
   ]
  },
  {
   "cell_type": "code",
   "execution_count": null,
   "metadata": {},
   "outputs": [
    {
     "name": "stdout",
     "output_type": "stream",
     "text": [
      "      residence  count  percentage\n",
      "0        Bangwe     13        10.4\n",
      "1   Machinjiri      11         8.8\n",
      "2      Manyowe       5         4.0\n",
      "3          Neno      4         3.2\n",
      "4      Chilobwe      4         3.2\n",
      "..          ...    ...         ...\n",
      "63          BCA      1         0.8\n",
      "64     Mbayani       1         0.8\n",
      "65    Ndilande       1         0.8\n",
      "66     Bvumbwe       1         0.8\n",
      "67       Baluti      1         0.8\n",
      "\n",
      "[68 rows x 3 columns]\n"
     ]
    }
   ],
   "source": [
    "# Group by residence\n",
    "residence_counts = data['residence'].value_counts().reset_index()\n",
    "residence_counts.columns = ['residence', 'count']\n",
    "\n",
    "# Calculate the percentage\n",
    "residence_counts['percentage'] = (residence_counts['count'] / residence_counts['count'].sum()) * 100\n",
    "\n",
    "# Display the residence counts\n",
    "print(residence_counts)"
   ]
  },
  {
   "cell_type": "markdown",
   "metadata": {},
   "source": [
    "\n",
    "### Distribution of Residences\n",
    "\n",
    "The table below shows the distribution of residences among the motorbike injury cases. The `residence` column indicates the location, the `count` column shows the number of cases from each residence, and the `percentage` column represents the percentage of total cases.\n",
    "\n",
    "| residence | count | percentage |\n",
    "|-----------|-------|------------|\n",
    "| Bangwe    | 13    | 10.4       |\n",
    "| Machinjiri| 11    | 8.8        |\n",
    "| Manyowe   | 5     | 4.0        |\n",
    "| Neno      | 4     | 3.2        |\n",
    "| Chilobwe  | 4     | 3.2        |\n",
    "| ...       | ...   | ...        |\n",
    "| BCA       | 1     | 0.8        |\n",
    "| Mbayani   | 1     | 0.8        |\n",
    "| Ndilande  | 1     | 0.8        |\n",
    "| Bvumbwe   | 1     | 0.8        |\n",
    "| Baluti    | 1     | 0.8        |\n"
   ]
  },
  {
   "cell_type": "code",
   "execution_count": null,
   "metadata": {},
   "outputs": [
    {
     "name": "stdout",
     "output_type": "stream",
     "text": [
      "   accidentDistrictLocation  count  percentage\n",
      "0                 Blantyre      89        71.2\n",
      "1                      Neno      4         3.2\n",
      "2                 Chikwawa       3         2.4\n",
      "3                     Zomba      3         2.4\n",
      "4                    Nsanje      3         2.4\n",
      "5                    Thyolo      2         1.6\n",
      "6                   Balaka       2         1.6\n",
      "7                  Mulanje       2         1.6\n",
      "8                   Mulanje      2         1.6\n",
      "9                  Chikwawa      1         0.8\n",
      "10                  Survey       1         0.8\n",
      "11          Blantyre/area10      1         0.8\n",
      "12                   Ntcheu      1         0.8\n",
      "13                   Mwanza      1         0.8\n",
      "14                  Mwanza       1         0.8\n",
      "15                   Balaka      1         0.8\n",
      "16              Chiradzulo       1         0.8\n",
      "17                    Neno       1         0.8\n",
      "18              Mamunamodzi      1         0.8\n",
      "19                Lirangwe       1         0.8\n",
      "20              Machinjiri       1         0.8\n",
      "21              Chiladzulu       1         0.8\n",
      "22                  Thyolo       1         0.8\n",
      "23                   Zomba       1         0.8\n"
     ]
    }
   ],
   "source": [
    "# Group by accident district location\n",
    "district_counts = data['accidentDistrictLocation'].value_counts().reset_index()\n",
    "district_counts.columns = ['accidentDistrictLocation', 'count']\n",
    "\n",
    "# Calculate the percentage\n",
    "district_counts['percentage'] = (district_counts['count'] / district_counts['count'].sum()) * 100\n",
    "\n",
    "# Display the district counts\n",
    "print(district_counts)"
   ]
  },
  {
   "cell_type": "code",
   "execution_count": null,
   "metadata": {
    "vscode": {
     "languageId": "ruby"
    }
   },
   "outputs": [
    {
     "name": "stdout",
     "output_type": "stream",
     "text": [
      "     accidentVillageLocation  count  percentage\n",
      "0                     Bangwe      8         6.4\n",
      "1                Machinjiri       5         4.0\n",
      "2                    Bangwe       4         3.2\n",
      "3                      Limbe      3         2.4\n",
      "4                      Lunzu      3         2.4\n",
      "..                       ...    ...         ...\n",
      "96   Matawale health centre       1         0.8\n",
      "97             Wenera deport      1         0.8\n",
      "98            Nthunga market      1         0.8\n",
      "99                   3 miles      1         0.8\n",
      "100                   Wenera      1         0.8\n",
      "\n",
      "[101 rows x 3 columns]\n"
     ]
    }
   ],
   "source": [
    "# Group by accident village location\n",
    "village_counts = data['accidentVillageLocation'].value_counts().reset_index()\n",
    "village_counts.columns = ['accidentVillageLocation', 'count']\n",
    "\n",
    "# Calculate the percentage\n",
    "village_counts['percentage'] = (village_counts['count'] / village_counts['count'].sum()) * 100\n",
    "\n",
    "# Display the village counts\n",
    "print(village_counts)"
   ]
  },
  {
   "cell_type": "code",
   "execution_count": null,
   "metadata": {},
   "outputs": [
    {
     "name": "stdout",
     "output_type": "stream",
     "text": [
      "         accidentRoad  count  percentage\n",
      "0                  M1      9    8.571429\n",
      "1     Machinjiri road      5    4.761905\n",
      "2         Midima road      4    3.809524\n",
      "3       Chikwawa road      4    3.809524\n",
      "4            Highway       4    3.809524\n",
      "..                ...    ...         ...\n",
      "67     Magalasi road       1    0.952381\n",
      "68           M1 road       1    0.952381\n",
      "69  Limbe thyolo road      1    0.952381\n",
      "70      Limbe thyolo       1    0.952381\n",
      "71     Matawale road       1    0.952381\n",
      "\n",
      "[72 rows x 3 columns]\n"
     ]
    }
   ],
   "source": [
    "# Group by accident road\n",
    "road_counts = data['accidentRoad'].value_counts().reset_index()\n",
    "road_counts.columns = ['accidentRoad', 'count']\n",
    "\n",
    "# Calculate the percentage\n",
    "road_counts['percentage'] = (road_counts['count'] / road_counts['count'].sum()) * 100\n",
    "\n",
    "# Display the road counts\n",
    "print(road_counts)"
   ]
  },
  {
   "cell_type": "code",
   "execution_count": null,
   "metadata": {},
   "outputs": [
    {
     "name": "stdout",
     "output_type": "stream",
     "text": [
      "    hourOfInjury  count  percentage\n",
      "0            8.0     15        12.0\n",
      "1            7.0     13        10.4\n",
      "2           17.0     11         8.8\n",
      "3           11.0     10         8.0\n",
      "4            9.0      8         6.4\n",
      "5           15.0      7         5.6\n",
      "6            6.0      6         4.8\n",
      "7           21.0      6         4.8\n",
      "8           20.0      6         4.8\n",
      "9           19.0      5         4.0\n",
      "10          18.0      5         4.0\n",
      "11          10.0      5         4.0\n",
      "12          22.0      5         4.0\n",
      "13          16.0      4         3.2\n",
      "14          12.0      4         3.2\n",
      "15           5.0      4         3.2\n",
      "16          14.0      2         1.6\n",
      "17           0.0      2         1.6\n",
      "18           4.0      2         1.6\n",
      "19           2.0      2         1.6\n",
      "20           3.0      1         0.8\n",
      "21          13.0      1         0.8\n",
      "22          23.0      1         0.8\n"
     ]
    }
   ],
   "source": [
    "# Convert 'timeOfInjury' to datetime format\n",
    "data['timeOfInjury'] = pd.to_datetime(data['timeOfInjury'], format='%H:%M:%S')\n",
    "\n",
    "# Extract the hour from 'timeOfInjury'\n",
    "data['hourOfInjury'] = data['timeOfInjury'].dt.hour\n",
    "\n",
    "# Group by hour of injury\n",
    "hourly_injury_counts = data['hourOfInjury'].value_counts().reset_index()\n",
    "hourly_injury_counts.columns = ['hourOfInjury', 'count']\n",
    "\n",
    "# Calculate the percentage\n",
    "hourly_injury_counts['percentage'] = (hourly_injury_counts['count'] / hourly_injury_counts['count'].sum()) * 100\n",
    "\n",
    "# Display the hourly injury counts\n",
    "print(hourly_injury_counts)"
   ]
  },
  {
   "cell_type": "code",
   "execution_count": null,
   "metadata": {},
   "outputs": [
    {
     "name": "stdout",
     "output_type": "stream",
     "text": [
      "  referral  count  percentage\n",
      "0      yes     69        55.2\n",
      "1       No     56        44.8\n",
      "                   referralFrom  count  percentage\n",
      "0                     Chikwawa       4    6.060606\n",
      "1                     Ndirande       4    6.060606\n",
      "2                    Balaka DHO      2    3.030303\n",
      "3                   Chiladzulu       2    3.030303\n",
      "4                       Mulanje      2    3.030303\n",
      "5               Mlambe mission       2    3.030303\n",
      "6                       Mulambe      2    3.030303\n",
      "7     Machinjiri health centre       2    3.030303\n",
      "8       Zomba central hospital       2    3.030303\n",
      "9               Limbe H/centre       2    3.030303\n",
      "10        Bangwe health centre       2    3.030303\n",
      "11      Namatapa health centre       2    3.030303\n",
      "12                     Lusumbwi      2    3.030303\n",
      "13                        Zomba      1    1.515152\n",
      "14                     Neno DHO      1    1.515152\n",
      "15                      Nsanje       1    1.515152\n",
      "16         Mdeka health centre       1    1.515152\n",
      "17                      Mlambe       1    1.515152\n",
      "18                  Mwanza DHO       1    1.515152\n",
      "19                     Lisungwi      1    1.515152\n",
      "20  South lunzu healthy centre       1    1.515152\n",
      "21                 Chikwawa DHO      1    1.515152\n",
      "22   South lunzu healthy centre      1    1.515152\n",
      "23                       Balaka      1    1.515152\n",
      "24              Chiradzulo DHO       1    1.515152\n",
      "25                Mtengo-unodzi      1    1.515152\n",
      "26                     Mulambe       1    1.515152\n",
      "27                    Neno DHO       1    1.515152\n",
      "28                    Lisungwi       1    1.515152\n",
      "29                 Kadidi/lunzu      1    1.515152\n",
      "30                      Mwanza       1    1.515152\n",
      "31                 Mulanje DHO       1    1.515152\n",
      "32                  Balaka DHO       1    1.515152\n",
      "33           Namatapa H/centre       1    1.515152\n",
      "34                   ChilekaH/c      1    1.515152\n",
      "35             Bangwe H/centre       1    1.515152\n",
      "36                  Mulanje DHO      1    1.515152\n",
      "37               LimbeH/center       1    1.515152\n",
      "38                   Nsanje DHO      1    1.515152\n",
      "39                        Limbe      1    1.515152\n",
      "40                  South lunzu      1    1.515152\n",
      "41       Mpemba healthy centre       1    1.515152\n",
      "42                     Mulanje       1    1.515152\n",
      "43                       Thyolo      1    1.515152\n",
      "44                      Mpemba       1    1.515152\n",
      "45                       Bangwe      1    1.515152\n",
      "46                  Thyolo DHO       1    1.515152\n",
      "47               Mpemba health       1    1.515152\n",
      "48                   Thyolo DHO      1    1.515152\n"
     ]
    }
   ],
   "source": [
    "# Group by referral\n",
    "referral_counts = data['referral'].value_counts().reset_index()\n",
    "referral_counts.columns = ['referral', 'count']\n",
    "\n",
    "# Calculate the percentage\n",
    "referral_counts['percentage'] = (referral_counts['count'] / referral_counts['count'].sum()) * 100\n",
    "\n",
    "# Display the referral counts\n",
    "print(referral_counts)\n",
    "\n",
    "# Group by referralFrom\n",
    "referral_from_counts = data['referralFrom'].value_counts().reset_index()\n",
    "referral_from_counts.columns = ['referralFrom', 'count']\n",
    "\n",
    "# Calculate the percentage\n",
    "referral_from_counts['percentage'] = (referral_from_counts['count'] / referral_from_counts['count'].sum()) * 100\n",
    "\n",
    "# Display the referralFrom counts\n",
    "print(referral_from_counts)"
   ]
  },
  {
   "cell_type": "code",
   "execution_count": null,
   "metadata": {},
   "outputs": [
    {
     "name": "stdout",
     "output_type": "stream",
     "text": [
      "    hourOfArrival  count  percentage\n",
      "0             8.0     17        13.6\n",
      "1             9.0     15        12.0\n",
      "2            12.0     12         9.6\n",
      "3            10.0     10         8.0\n",
      "4             7.0      6         4.8\n",
      "5            11.0      6         4.8\n",
      "6             6.0      6         4.8\n",
      "7            16.0      6         4.8\n",
      "8            13.0      5         4.0\n",
      "9             0.0      5         4.0\n",
      "10           17.0      4         3.2\n",
      "11           14.0      4         3.2\n",
      "12           22.0      4         3.2\n",
      "13            5.0      4         3.2\n",
      "14           19.0      4         3.2\n",
      "15           20.0      4         3.2\n",
      "16           15.0      3         2.4\n",
      "17           18.0      2         1.6\n",
      "18           21.0      2         1.6\n",
      "19           23.0      2         1.6\n",
      "20            2.0      2         1.6\n",
      "21            4.0      2         1.6\n"
     ]
    }
   ],
   "source": [
    "# Convert 'arrivalTime' to datetime format\n",
    "data['arrivalTime'] = pd.to_datetime(data['arrivalTime'], format='%H:%M:%S')\n",
    "\n",
    "# Extract the hour from 'arrivalTime'\n",
    "data['hourOfArrival'] = data['arrivalTime'].dt.hour\n",
    "\n",
    "# Group by hour of arrival\n",
    "hourly_arrival_counts = data['hourOfArrival'].value_counts().reset_index()\n",
    "hourly_arrival_counts.columns = ['hourOfArrival', 'count']\n",
    "\n",
    "# Calculate the percentage\n",
    "hourly_arrival_counts['percentage'] = (hourly_arrival_counts['count'] / hourly_arrival_counts['count'].sum()) * 100\n",
    "\n",
    "# Display the hourly arrival counts\n",
    "print(hourly_arrival_counts)"
   ]
  },
  {
   "cell_type": "code",
   "execution_count": null,
   "metadata": {},
   "outputs": [
    {
     "name": "stdout",
     "output_type": "stream",
     "text": [
      "  licensed  count  percentage\n",
      "0       no    112        89.6\n",
      "1      yes     13        10.4\n"
     ]
    }
   ],
   "source": [
    "# Group by licensed\n",
    "licensed_counts = data['licensed'].value_counts().reset_index()\n",
    "licensed_counts.columns = ['licensed', 'count']\n",
    "\n",
    "# Calculate the percentage\n",
    "licensed_counts['percentage'] = (licensed_counts['count'] / licensed_counts['count'].sum()) * 100\n",
    "\n",
    "# Display the licensed counts\n",
    "print(licensed_counts)"
   ]
  },
  {
   "cell_type": "code",
   "execution_count": null,
   "metadata": {},
   "outputs": [
    {
     "ename": "KeyError",
     "evalue": "'experience'",
     "output_type": "error",
     "traceback": [
      "\u001b[1;31m---------------------------------------------------------------------------\u001b[0m",
      "\u001b[1;31mKeyError\u001b[0m                                  Traceback (most recent call last)",
      "File \u001b[1;32mc:\\Users\\user\\AppData\\Local\\Programs\\Python\\Python312\\Lib\\site-packages\\pandas\\core\\indexes\\base.py:3805\u001b[0m, in \u001b[0;36mIndex.get_loc\u001b[1;34m(self, key)\u001b[0m\n\u001b[0;32m   3804\u001b[0m \u001b[38;5;28;01mtry\u001b[39;00m:\n\u001b[1;32m-> 3805\u001b[0m     \u001b[38;5;28;01mreturn\u001b[39;00m \u001b[38;5;28;43mself\u001b[39;49m\u001b[38;5;241;43m.\u001b[39;49m\u001b[43m_engine\u001b[49m\u001b[38;5;241;43m.\u001b[39;49m\u001b[43mget_loc\u001b[49m\u001b[43m(\u001b[49m\u001b[43mcasted_key\u001b[49m\u001b[43m)\u001b[49m\n\u001b[0;32m   3806\u001b[0m \u001b[38;5;28;01mexcept\u001b[39;00m \u001b[38;5;167;01mKeyError\u001b[39;00m \u001b[38;5;28;01mas\u001b[39;00m err:\n",
      "File \u001b[1;32mindex.pyx:167\u001b[0m, in \u001b[0;36mpandas._libs.index.IndexEngine.get_loc\u001b[1;34m()\u001b[0m\n",
      "File \u001b[1;32mindex.pyx:196\u001b[0m, in \u001b[0;36mpandas._libs.index.IndexEngine.get_loc\u001b[1;34m()\u001b[0m\n",
      "File \u001b[1;32mpandas\\\\_libs\\\\hashtable_class_helper.pxi:7081\u001b[0m, in \u001b[0;36mpandas._libs.hashtable.PyObjectHashTable.get_item\u001b[1;34m()\u001b[0m\n",
      "File \u001b[1;32mpandas\\\\_libs\\\\hashtable_class_helper.pxi:7089\u001b[0m, in \u001b[0;36mpandas._libs.hashtable.PyObjectHashTable.get_item\u001b[1;34m()\u001b[0m\n",
      "\u001b[1;31mKeyError\u001b[0m: 'experience'",
      "\nThe above exception was the direct cause of the following exception:\n",
      "\u001b[1;31mKeyError\u001b[0m                                  Traceback (most recent call last)",
      "Cell \u001b[1;32mIn[30], line 2\u001b[0m\n\u001b[0;32m      1\u001b[0m \u001b[38;5;66;03m# Fill NaN values in 'experience' column with a placeholder\u001b[39;00m\n\u001b[1;32m----> 2\u001b[0m data[\u001b[38;5;124m'\u001b[39m\u001b[38;5;124mexperience\u001b[39m\u001b[38;5;124m'\u001b[39m] \u001b[38;5;241m=\u001b[39m \u001b[43mdata\u001b[49m\u001b[43m[\u001b[49m\u001b[38;5;124;43m'\u001b[39;49m\u001b[38;5;124;43mexperience\u001b[39;49m\u001b[38;5;124;43m'\u001b[39;49m\u001b[43m]\u001b[49m\u001b[38;5;241m.\u001b[39mfillna(\u001b[38;5;124m'\u001b[39m\u001b[38;5;124mUnknown\u001b[39m\u001b[38;5;124m'\u001b[39m)\n\u001b[0;32m      4\u001b[0m \u001b[38;5;66;03m# Group by experience\u001b[39;00m\n\u001b[0;32m      5\u001b[0m experience_counts \u001b[38;5;241m=\u001b[39m data[\u001b[38;5;124m'\u001b[39m\u001b[38;5;124mexperience\u001b[39m\u001b[38;5;124m'\u001b[39m]\u001b[38;5;241m.\u001b[39mvalue_counts()\u001b[38;5;241m.\u001b[39mreset_index()\n",
      "File \u001b[1;32mc:\\Users\\user\\AppData\\Local\\Programs\\Python\\Python312\\Lib\\site-packages\\pandas\\core\\frame.py:4102\u001b[0m, in \u001b[0;36mDataFrame.__getitem__\u001b[1;34m(self, key)\u001b[0m\n\u001b[0;32m   4100\u001b[0m \u001b[38;5;28;01mif\u001b[39;00m \u001b[38;5;28mself\u001b[39m\u001b[38;5;241m.\u001b[39mcolumns\u001b[38;5;241m.\u001b[39mnlevels \u001b[38;5;241m>\u001b[39m \u001b[38;5;241m1\u001b[39m:\n\u001b[0;32m   4101\u001b[0m     \u001b[38;5;28;01mreturn\u001b[39;00m \u001b[38;5;28mself\u001b[39m\u001b[38;5;241m.\u001b[39m_getitem_multilevel(key)\n\u001b[1;32m-> 4102\u001b[0m indexer \u001b[38;5;241m=\u001b[39m \u001b[38;5;28;43mself\u001b[39;49m\u001b[38;5;241;43m.\u001b[39;49m\u001b[43mcolumns\u001b[49m\u001b[38;5;241;43m.\u001b[39;49m\u001b[43mget_loc\u001b[49m\u001b[43m(\u001b[49m\u001b[43mkey\u001b[49m\u001b[43m)\u001b[49m\n\u001b[0;32m   4103\u001b[0m \u001b[38;5;28;01mif\u001b[39;00m is_integer(indexer):\n\u001b[0;32m   4104\u001b[0m     indexer \u001b[38;5;241m=\u001b[39m [indexer]\n",
      "File \u001b[1;32mc:\\Users\\user\\AppData\\Local\\Programs\\Python\\Python312\\Lib\\site-packages\\pandas\\core\\indexes\\base.py:3812\u001b[0m, in \u001b[0;36mIndex.get_loc\u001b[1;34m(self, key)\u001b[0m\n\u001b[0;32m   3807\u001b[0m     \u001b[38;5;28;01mif\u001b[39;00m \u001b[38;5;28misinstance\u001b[39m(casted_key, \u001b[38;5;28mslice\u001b[39m) \u001b[38;5;129;01mor\u001b[39;00m (\n\u001b[0;32m   3808\u001b[0m         \u001b[38;5;28misinstance\u001b[39m(casted_key, abc\u001b[38;5;241m.\u001b[39mIterable)\n\u001b[0;32m   3809\u001b[0m         \u001b[38;5;129;01mand\u001b[39;00m \u001b[38;5;28many\u001b[39m(\u001b[38;5;28misinstance\u001b[39m(x, \u001b[38;5;28mslice\u001b[39m) \u001b[38;5;28;01mfor\u001b[39;00m x \u001b[38;5;129;01min\u001b[39;00m casted_key)\n\u001b[0;32m   3810\u001b[0m     ):\n\u001b[0;32m   3811\u001b[0m         \u001b[38;5;28;01mraise\u001b[39;00m InvalidIndexError(key)\n\u001b[1;32m-> 3812\u001b[0m     \u001b[38;5;28;01mraise\u001b[39;00m \u001b[38;5;167;01mKeyError\u001b[39;00m(key) \u001b[38;5;28;01mfrom\u001b[39;00m \u001b[38;5;21;01merr\u001b[39;00m\n\u001b[0;32m   3813\u001b[0m \u001b[38;5;28;01mexcept\u001b[39;00m \u001b[38;5;167;01mTypeError\u001b[39;00m:\n\u001b[0;32m   3814\u001b[0m     \u001b[38;5;66;03m# If we have a listlike key, _check_indexing_error will raise\u001b[39;00m\n\u001b[0;32m   3815\u001b[0m     \u001b[38;5;66;03m#  InvalidIndexError. Otherwise we fall through and re-raise\u001b[39;00m\n\u001b[0;32m   3816\u001b[0m     \u001b[38;5;66;03m#  the TypeError.\u001b[39;00m\n\u001b[0;32m   3817\u001b[0m     \u001b[38;5;28mself\u001b[39m\u001b[38;5;241m.\u001b[39m_check_indexing_error(key)\n",
      "\u001b[1;31mKeyError\u001b[0m: 'experience'"
     ]
    }
   ],
   "source": [
    "# Fill NaN values in 'experience' column with a placeholder\n",
    "data['experience'] = data['experience'].fillna('Unknown')\n",
    "\n",
    "# Group by experience\n",
    "experience_counts = data['experience'].value_counts().reset_index()\n",
    "experience_counts.columns = ['experience', 'count']\n",
    "\n",
    "# Calculate the percentage\n",
    "experience_counts['percentage'] = (experience_counts['count'] / experience_counts['count'].sum()) * 100\n",
    "\n",
    "# Display the experience counts\n",
    "print(experience_counts)"
   ]
  },
  {
   "cell_type": "code",
   "execution_count": null,
   "metadata": {},
   "outputs": [
    {
     "name": "stdout",
     "output_type": "stream",
     "text": [
      "                           crashType  count  percentage\n",
      "0       Collision with motor vehicle     42   35.294118\n",
      "1              Fall from motorcycle:     35   29.411765\n",
      "2          Collision with motorcycle     18   15.126050\n",
      "3    Collision with stationary thing      4    3.361345\n",
      "4            Hit while crossing road      4    3.361345\n",
      "5             Collision with animal:      3    2.521008\n",
      "6                  Hit by motorbike       3    2.521008\n",
      "7                    Hit pedestrian       2    1.680672\n",
      "8                 Hit along the road      1    0.840336\n",
      "9           Collision with an oxcart      1    0.840336\n",
      "10      Hit while walking along road      1    0.840336\n",
      "11  Pulled off by bags on motorbike       1    0.840336\n",
      "12      Hit by fast moving motorbike      1    0.840336\n",
      "13               Got stuck in spokes      1    0.840336\n",
      "14                  Hit from behind       1    0.840336\n",
      "15            Hit by police vehicle       1    0.840336\n"
     ]
    },
    {
     "data": {
      "image/png": "[encoded data removed]",
      "text/plain": [
       "<Figure size 1000x600 with 1 Axes>"
      ]
     },
     "metadata": {},
     "output_type": "display_data"
    }
   ],
   "source": [
    "import matplotlib.pyplot as plt\n",
    "import seaborn as sns\n",
    "# Group by crashType\n",
    "crash_type_counts = data['crashType'].value_counts().reset_index()\n",
    "crash_type_counts.columns = ['crashType', 'count']\n",
    "\n",
    "# Calculate the percentage\n",
    "crash_type_counts['percentage'] = (crash_type_counts['count'] / crash_type_counts['count'].sum()) * 100\n",
    "\n",
    "# Display the crash type counts\n",
    "print(crash_type_counts)\n",
    "\n",
    "# Plot the crash type counts\n",
    "plt.figure(figsize=(10, 6))\n",
    "sns.barplot(x='crashType', y='count', data=crash_type_counts)\n",
    "plt.title('Distribution of Crash Types')\n",
    "plt.xlabel('Crash Type')\n",
    "plt.ylabel('Count')\n",
    "plt.xticks(rotation=45)\n",
    "plt.show()"
   ]
  }
 ],
 "metadata": {
  "kernelspec": {
   "display_name": "Python 3",
   "language": "python",
   "name": "python3"
  },
  "language_info": {
   "codemirror_mode": {
    "name": "ipython",
    "version": 3
   },
   "file_extension": ".py",
   "mimetype": "text/x-python",
   "name": "python",
   "nbconvert_exporter": "python",
   "pygments_lexer": "ipython3",
   "version": "3.12.2"
  }
 },
 "nbformat": 4,
 "nbformat_minor": 2
}

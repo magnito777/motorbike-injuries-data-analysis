{
 "cells": [
  {
   "cell_type": "code",
   "execution_count": 2,
   "metadata": {
    "vscode": {
     "languageId": "r"
    }
   },
   "outputs": [
    {
     "name": "stderr",
     "output_type": "stream",
     "text": [
      "Installing package into 'C:/Users/user/AppData/Local/R/win-library/4.3'\n",
      "(as 'lib' is unspecified)\n",
      "\n"
     ]
    },
    {
     "name": "stdout",
     "output_type": "stream",
     "text": [
      "package 'tidyverse' successfully unpacked and MD5 sums checked\n",
      "\n",
      "The downloaded binary packages are in\n",
      "\tC:\\Users\\user\\AppData\\Local\\Temp\\RtmpstfPD0\\downloaded_packages\n"
     ]
    },
    {
     "name": "stderr",
     "output_type": "stream",
     "text": [
      "Installing package into 'C:/Users/user/AppData/Local/R/win-library/4.3'\n",
      "(as 'lib' is unspecified)\n",
      "\n",
      "also installing the dependencies 'cli', 'htmltools', 'rlang'\n",
      "\n",
      "\n",
      "Warning message in download.file(url, destfile, method, mode = \"wb\", ...):\n",
      "\"downloaded length 0 != reported length 0\"\n",
      "Warning message in download.file(url, destfile, method, mode = \"wb\", ...):\n",
      "\"URL 'https://cran.r-project.org/bin/windows/contrib/4.3/cli_3.6.4.zip': Timeout of 60 seconds was reached\"\n"
     ]
    },
    {
     "name": "stdout",
     "output_type": "stream",
     "text": [
      "Error in download.file(url, destfile, method, mode = \"wb\", ...) : \n",
      "  download from 'https://cran.r-project.org/bin/windows/contrib/4.3/cli_3.6.4.zip' failed\n"
     ]
    },
    {
     "name": "stderr",
     "output_type": "stream",
     "text": [
      "Warning message in download.packages(pkgs, destdir = tmpd, available = available, :\n",
      "\"download of package 'cli' failed\"\n",
      "Warning message in download.file(url, destfile, method, mode = \"wb\", ...):\n",
      "\"downloaded length 0 != reported length 0\"\n",
      "Warning message in download.file(url, destfile, method, mode = \"wb\", ...):\n",
      "\"URL 'https://cran.r-project.org/bin/windows/contrib/4.3/htmltools_0.5.8.1.zip': Timeout of 60 seconds was reached\"\n"
     ]
    },
    {
     "name": "stdout",
     "output_type": "stream",
     "text": [
      "Error in download.file(url, destfile, method, mode = \"wb\", ...) : \n",
      "  download from 'https://cran.r-project.org/bin/windows/contrib/4.3/htmltools_0.5.8.1.zip' failed\n"
     ]
    },
    {
     "name": "stderr",
     "output_type": "stream",
     "text": [
      "Warning message in download.packages(pkgs, destdir = tmpd, available = available, :\n",
      "\"download of package 'htmltools' failed\"\n"
     ]
    },
    {
     "name": "stdout",
     "output_type": "stream",
     "text": [
      "package 'rlang' successfully unpacked and MD5 sums checked\n"
     ]
    },
    {
     "name": "stderr",
     "output_type": "stream",
     "text": [
      "Warning message:\n",
      "\"cannot remove prior installation of package 'rlang'\"\n",
      "Warning message in file.copy(savedcopy, lib, recursive = TRUE):\n",
      "\"problem copying C:\\Users\\user\\AppData\\Local\\R\\win-library\\4.3\\00LOCK\\rlang\\libs\\x64\\rlang.dll to C:\\Users\\user\\AppData\\Local\\R\\win-library\\4.3\\rlang\\libs\\x64\\rlang.dll: Permission denied\"\n",
      "Warning message:\n",
      "\"restored 'rlang'\"\n"
     ]
    },
    {
     "name": "stdout",
     "output_type": "stream",
     "text": [
      "package 'gt' successfully unpacked and MD5 sums checked\n",
      "\n",
      "The downloaded binary packages are in\n",
      "\tC:\\Users\\user\\AppData\\Local\\Temp\\RtmpstfPD0\\downloaded_packages\n"
     ]
    },
    {
     "name": "stderr",
     "output_type": "stream",
     "text": [
      "Installing package into 'C:/Users/user/AppData/Local/R/win-library/4.3'\n",
      "(as 'lib' is unspecified)\n",
      "\n"
     ]
    },
    {
     "name": "stdout",
     "output_type": "stream",
     "text": [
      "package 'DT' successfully unpacked and MD5 sums checked\n",
      "\n",
      "The downloaded binary packages are in\n",
      "\tC:\\Users\\user\\AppData\\Local\\Temp\\RtmpstfPD0\\downloaded_packages\n"
     ]
    },
    {
     "ename": "ERROR",
     "evalue": "Error: package or namespace load failed for 'gt' in loadNamespace(i, c(lib.loc, .libPaths()), versionCheck = vI[[i]]):\n namespace 'rlang' 1.1.3 is already loaded, but >= 1.1.4 is required\n",
     "output_type": "error",
     "traceback": [
      "Error: package or namespace load failed for 'gt' in loadNamespace(i, c(lib.loc, .libPaths()), versionCheck = vI[[i]]):\n namespace 'rlang' 1.1.3 is already loaded, but >= 1.1.4 is required\nTraceback:\n",
      "1. tryCatch({\n .     attr(package, \"LibPath\") <- which.lib.loc\n .     ns <- loadNamespace(package, lib.loc)\n .     env <- attachNamespace(ns, pos = pos, deps, exclude, include.only)\n . }, error = function(e) {\n .     P <- if (!is.null(cc <- conditionCall(e))) \n .         paste(\" in\", deparse(cc)[1L])\n .     else \"\"\n .     msg <- gettextf(\"package or namespace load failed for %s%s:\\n %s\", \n .         sQuote(package), P, conditionMessage(e))\n .     if (logical.return && !quietly) \n .         message(paste(\"Error:\", msg), domain = NA)\n .     else stop(msg, call. = FALSE, domain = NA)\n . })",
      "2. tryCatchList(expr, classes, parentenv, handlers)",
      "3. tryCatchOne(expr, names, parentenv, handlers[[1L]])",
      "4. value[[3L]](cond)",
      "5. stop(msg, call. = FALSE, domain = NA)",
      "6. .handleSimpleError(function (cnd) \n . {\n .     watcher$capture_plot_and_output()\n .     cnd <- sanitize_call(cnd)\n .     watcher$push(cnd)\n .     switch(on_error, continue = invokeRestart(\"eval_continue\"), \n .         stop = invokeRestart(\"eval_stop\"), error = NULL)\n . }, \"package or namespace load failed for 'gt' in loadNamespace(i, c(lib.loc, .libPaths()), versionCheck = vI[[i]]):\\n namespace 'rlang' 1.1.3 is already loaded, but >= 1.1.4 is required\", \n .     base::quote(NULL))"
     ]
    }
   ],
   "source": [
    "install.packages(\"tidyverse\")\n",
    "install.packages(\"gt\")  # For beautiful tables\n",
    "install.packages(\"DT\")  # For interactive tables\n",
    "\n",
    "# Load libraries\n",
    "library(dplyr)\n",
    "library(gt)\n",
    "library(DT)\n",
    "\n",
    "# Read and process the data\n",
    "data <- read.csv(\"motorbike-injuries.csv\") %>%\n",
    "    group_by(roles) %>%\n",
    "    summarise(frequency = n()) %>%\n",
    "    mutate(percentage = frequency / sum(frequency) * 100)\n",
    "\n",
    "# Display data in a gt table\n",
    "data %>%\n",
    "    gt() %>%\n",
    "    fmt_number(columns = percentage, decimals = 2) %>%\n",
    "    tab_header(\n",
    "        title = \"Distribution of Roles in Motorbike Injuries\",\n",
    "        subtitle = \"Frequencies and Percentages\"\n",
    "    )\n",
    "\n",
    "# Alternatively, display data in an interactive DataTable\n",
    "datatable(data, options = list(pageLength = 5, autoWidth = TRUE))\n",
    "\n",
    "# Perform Chi-squared test\n",
    "chi_square_test <- chisq.test(data$frequency)\n",
    "print(paste(\"Chi-square test p-value:\", chi_square_test$p.value))\n"
   ]
  },
  {
   "cell_type": "code",
   "execution_count": null,
   "metadata": {
    "vscode": {
     "languageId": "r"
    }
   },
   "outputs": [
    {
     "ename": "ERROR",
     "evalue": "Error in read.csv(\"motorbike-injuries.csv\") %>% group_by(roles) %>% summarise(frequency = n()) %>% : could not find function \"%>%\"\n",
     "output_type": "error",
     "traceback": [
      "Error in read.csv(\"motorbike-injuries.csv\") %>% group_by(roles) %>% summarise(frequency = n()) %>% : could not find function \"%>%\"\nTraceback:\n"
     ]
    }
   ],
   "source": [
    "# Read and process the data\n",
    "data <- read.csv(\"motorbike-injuries.csv\") %>%\n",
    "    group_by_(roles) %>%\n",
    "    summarise(frequency = n()) %>%\n",
    "    mutate(percentage = frequency / sum(frequency) * 100)\n",
    "\n",
    "\n",
    "print(data)\n",
    "\n",
    "# Perform Chi-squared test\n",
    "chi_square_test <- chisq.test(data$frequency)\n",
    "print(paste(\"Chi-square test p-value:\", chi_square_test$p.value))\n",
    "\n",
    "\n",
    "\n"
   ]
  }
 ],
 "metadata": {
  "kernelspec": {
   "display_name": "R",
   "language": "R",
   "name": "ir"
  },
  "language_info": {
   "codemirror_mode": "r",
   "file_extension": ".r",
   "mimetype": "text/x-r-source",
   "name": "R",
   "pygments_lexer": "r",
   "version": "4.3.3"
  }
 },
 "nbformat": 4,
 "nbformat_minor": 2
}
